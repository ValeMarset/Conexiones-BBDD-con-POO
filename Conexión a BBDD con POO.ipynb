{
 "cells": [
  {
   "cell_type": "code",
   "execution_count": 2,
   "id": "ed8f1e4f-8448-4c97-85a8-04b3451dd954",
   "metadata": {},
   "outputs": [],
   "source": [
    "\n",
    "# Desafio de POO\n",
    "# El objetivo es crear una clase para la conexión a la base de datos.\n",
    "\n",
    "# Un método para crear la conexión para Mysql y otro para Postgresql, devuelve la conexión\n",
    "# Piense en la contraseña y la seguridad del usuario\n",
    "# Un método separado para devolver el cursor a cualquier base de datos.\n",
    "# Un método para probar la conexión a cualquier base de datos, devuelve éxito o fracaso.\n",
    "# Un método para seleccionar para cualquier base de datos, devuelve el resultado de la selección.\n",
    "# Un método que devuelve el resultado seleccionado en el dataframe de pandas\n",
    "# Un método para insertar en cualquier base de datos y devuelve éxito o no."
   ]
  },
  {
   "cell_type": "code",
   "execution_count": 53,
   "id": "b3d47bec-f302-48a1-9ee3-0cc9a430f83c",
   "metadata": {},
   "outputs": [
    {
     "data": {
      "text/plain": [
       "True"
      ]
     },
     "execution_count": 53,
     "metadata": {},
     "output_type": "execute_result"
    }
   ],
   "source": [
    "import os\n",
    "import psycopg2\n",
    "import pymysql\n",
    "import pandas as pd\n",
    "from dotenv import load_dotenv\n",
    "\n",
    "load_dotenv()"
   ]
  },
  {
   "cell_type": "code",
   "execution_count": 55,
   "id": "86174d23-9798-48d5-8186-b28ca145f7a1",
   "metadata": {},
   "outputs": [],
   "source": [
    "class ConnectionDb:\n",
    "    def __init__(self, type_connection, host, port, user, password, database):       \n",
    "        \"\"\"Inicializa la conexión a la base de datos.\"\"\"\n",
    "        \n",
    "        self.type_connection = type_connection\n",
    "        self.host = host\n",
    "        self.port = port\n",
    "        self.user = user\n",
    "        self.password = password\n",
    "        self.database = database\n",
    "        self.connection = None\n",
    "\n",
    "\n",
    "        if self.type_connection == 'postgres':\n",
    "            try:\n",
    "                self.connection = psycopg2.connect(\n",
    "                    host=self.host,\n",
    "                    port=self.port,\n",
    "                    user=self.user,\n",
    "                    password=self.password,\n",
    "                    database=self.database\n",
    "                )\n",
    "                print('Conexión Postgres establecida exitosamente')\n",
    "            except psycopg2.DatabaseError as e:\n",
    "                print(f'Ha ocurrido un error al intentar conectar a la Base de Datos Postgres, error: {e}')\n",
    "            \n",
    "        elif self.type_connection == 'mysql':\n",
    "            try:\n",
    "                self.connection = pymysql.connect(\n",
    "                    host=self.host,\n",
    "                    port=self.port,\n",
    "                    user=self.user,\n",
    "                    password=self.password,\n",
    "                    database=self.database\n",
    "                )\n",
    "                print('Conexión MySQL establecida exitosamente')\n",
    "            except pymysql.Error as e:\n",
    "                print(f'Ha ocurrido un error al intentar conectar a la Base de Datos MySQL, error: {e}')\n",
    "        else:\n",
    "            print('Tipo de conexión no válido')\n",
    "      \n",
    "\n",
    "            \n",
    "    \n",
    "    def create_cursor(self, connection):\n",
    "        cursor = connection.cursor()\n",
    "        return cursor\n",
    "\n",
    "    \n",
    "    def test_connection(self, connection):\n",
    "        \"\"\"Verifica si la conexión a la base de datos está establecida.\"\"\"\n",
    "        \n",
    "        if connection is not None:\n",
    "            print('La conexión fue establecida con éxito')\n",
    "        else:\n",
    "            print('La conexión no fue establecida')\n",
    "            \n",
    "\n",
    "    def get_data_to_db(self, connection, table, columns, condition=''):\n",
    "        \"\"\"Obtiene los datos de la base de datos.\"\"\"\n",
    "        try:\n",
    "            cursor = self.create_cursor(connection)\n",
    "            sql = f'SELECT {columns} FROM {table}'\n",
    "            if condition:\n",
    "                sql += f' WHERE {condition};'\n",
    "                \n",
    "            cursor.execute(sql)\n",
    "            results = cursor.fetchall()\n",
    "            return results\n",
    "        finally:\n",
    "            cursor.close()\n",
    "\n",
    "    \n",
    "    def result_to_dataframe(self, result):\n",
    "      \"\"\"Convierte los resultados de la consulta en un DataFrame de Pandas.\"\"\"\n",
    "      df = pd.DataFrame(result) \n",
    "      return df\n",
    "        \n",
    "\n",
    "    def insert_data_to_db(self, connection, table, columns, values):\n",
    "        \"\"\"Inserta datos en la base de datos.\"\"\"\n",
    "        try:\n",
    "            cursor = self.create_cursor(connection)            \n",
    "            sql = f'INSERT INTO {table} {columns} VALUES {values}'\n",
    "            cursor.execute(sql)\n",
    "            connection.commit()\n",
    "            print('Datos insertados exitosamente')\n",
    "        except Exception as e:\n",
    "            print(f'Error al insertar datos: {e}')\n",
    "            connection.rollback()\n",
    "        finally:\n",
    "            cursor.close()"
   ]
  },
  {
   "cell_type": "markdown",
   "id": "a99c4387-14cb-4ca1-86da-a94e74362969",
   "metadata": {},
   "source": [
    "# Prueba Postgres\n",
    "\n",
    "## DDL:\n",
    "\n",
    "### CREATE TABLE poo_conexiones.mascotas (\r\n",
    "    id serial4 NOT NULL,\r\n",
    "    nombre varchar(50) NULL,\r\n",
    "    fecha_nacimiento date NULL,\r\n",
    "    especie varchar(100) NULL,\r\n",
    "    color varchar(40) NULL,\r\n",
    "    email varchar(255) NULL,\r\n",
    "    CONSTRAINT prueba_pkey PRIMARY K Y \n",
    "\n",
    "\n",
    "\n",
    "id)\r\n",
    ");\r\n",
    " KEY (id)\r\n",
    ");"
   ]
  },
  {
   "cell_type": "code",
   "execution_count": 56,
   "id": "ee7028b6-2e0e-49a2-9569-a068964eece6",
   "metadata": {},
   "outputs": [
    {
     "name": "stdout",
     "output_type": "stream",
     "text": [
      "Conexión Postgres establecida exitosamente\n",
      "La conexión fue establecida con éxito\n",
      "Datos insertados exitosamente\n"
     ]
    }
   ],
   "source": [
    "# Cargar variables de entorno para la conexión Postgres\n",
    "host = os.getenv('POSTGRES_HOST')\n",
    "port = os.getenv('POSTGRES_PORT')\n",
    "user = os.getenv('POSTGRES_USER')\n",
    "pswd = os.getenv('POSTGRES_PASSWORD')\n",
    "db = os.getenv('POSTGRES_DB')\n",
    "\n",
    "# Crear instancia de la clase ConnectionDb para la conexión Postgres\n",
    "postgres = ConnectionDb('postgres', host, port, user, pswd, db)\n",
    "\n",
    "# Probar la conexión\n",
    "postgres.test_connection(postgres.connection)\n",
    "\n",
    "# Obtener datos de la tabla 'poo_conexiones.mascotas'\n",
    "results = postgres.get_data_to_db(postgres.connection, 'poo_conexiones.mascotas', '*')\n",
    "# print('Datos obtenidos:', results)\n",
    "\n",
    "# Convertir resultados a DataFrame de Pandas\n",
    "df_pandas = postgres.result_to_dataframe(results)\n",
    "# print('DataFrame de Pandas: ', df_pandas)\n",
    "\n",
    "# Definir las columnas y valores para insertar en la tabla\n",
    "columns = f'(nombre, fecha_nacimiento, especie, color)'\n",
    "values = f\"('Ravena', '21-02-2022', 'canina', 'marron, como el dulce de leche'),('Cocoa', '01-03-2014', 'canino', 'negro y canoso como una noche estrellada'), ('Sopa', '01-01-2020', 'equina', 'café con leche')\"\n",
    "\n",
    "# Insertar datos en la tabla 'poo_conexiones.mascotas'\n",
    "postgres.insert_data_to_db(postgres.connection, 'poo_conexiones.mascotas', columns, values)"
   ]
  },
  {
   "cell_type": "markdown",
   "id": "0217cfe6-95a2-49eb-8a67-e3f46a153fd7",
   "metadata": {},
   "source": [
    "# Prueba MySQL\n",
    "\n",
    "## DDL\n",
    "\n",
    "### CREATE TABLE poo_conexiones.mascotas (\r\n",
    "    id INT AUTO_INCREMENT PRIMARY KEY,\r\n",
    "    nombre VARCHAR(50) NULL,\r\n",
    "    fecha_nacimiento DATE NULL,\r\n",
    "    especie VARCHAR(100) NULL,\r\n",
    "    color VARCHAR(40) NULL,\r\n",
    "    email VARCHAR(255) NULL\r\n",
    ");\r\n"
   ]
  },
  {
   "cell_type": "code",
   "execution_count": 58,
   "id": "350660ab-d2eb-4997-b925-96d6a33602f5",
   "metadata": {},
   "outputs": [
    {
     "name": "stdout",
     "output_type": "stream",
     "text": [
      "Conexión MySQL establecida exitosamente\n",
      "La conexión fue establecida con éxito\n",
      "Datos insertados exitosamente\n"
     ]
    }
   ],
   "source": [
    "# Cargar variables de entorno para la conexión MySQL\n",
    "host = os.getenv('MYSQL_HOST')\n",
    "port = os.getenv('MYSQL_PORT')\n",
    "user = os.getenv('MYSQL_USER')\n",
    "pswd = os.getenv('MYSQL_PASSWORD')\n",
    "db = os.getenv('MYSQL_DB')\n",
    "\n",
    "# Crear instancia de la clase ConnectionDb para la conexión MySQL\n",
    "mysql = ConnectionDb('mysql', host, int(port), user, pswd, db)\n",
    "\n",
    "# Probar la conexión\n",
    "mysql.test_connection(mysql.connection)\n",
    "\n",
    "# Obtener datos de la tabla 'poo_conexiones.mascotas'\n",
    "results = mysql.get_data_to_db(mysql.connection, 'poo_conexiones.mascotas', '*', 'nombre=\"Ravena\"' )\n",
    "# print('Datos obtenidos:', results)\n",
    "\n",
    "# Convertir resultados a DataFrame de Pandas\n",
    "df_pandas = mysql.result_to_dataframe(results)\n",
    "# print('DataFrame de Pandas: ', df_pandas)\n",
    "\n",
    "# Definir las columnas y valores para insertar en la tabla\n",
    "columns = f'(nombre, fecha_nacimiento, especie, color)'\n",
    "values = f\"('Ravena', '2022-02-21', 'canina', 'marron, como el dulce de leche'),('Cocoa', '2014-03-01', 'canino', 'negro y canoso como una noche estrellada'), ('Sopa', '2020-01-01', 'equina', 'café con leche')\"\n",
    "\n",
    "\n",
    "# Insertar datos en la tabla 'poo_conexiones.mascotas'\n",
    "mysql.insert_data_to_db(mysql.connection, 'poo_conexiones.mascotas', columns, values)\n",
    "\n",
    "\n"
   ]
  },
  {
   "cell_type": "markdown",
   "id": "98fa239b-0ca4-45ed-998e-057309ab022a",
   "metadata": {},
   "source": [
    "## Carga de variables de entorno en un archivo .env",
    "### Inserte sus credenciales a continuación"
   ]
  },
  {
   "cell_type": "code",
   "execution_count": 36,
   "id": "0bf91eda-4099-4162-bc58-56c8b387b482",
   "metadata": {},
   "outputs": [
    {
     "name": "stdout",
     "output_type": "stream",
     "text": [
      "Overwriting .env\n"
     ]
    }
   ],
   "source": [
    "%%writefile .env\n",
    "MYSQL_DB=*****\n",
    "MYSQL_HOST=*****\n",
    "MYSQL_PASSWORD=****\n",
    "MYSQL_PORT=****\n",
    "MYSQL_USER=****\n",
    "POSTGRES_DB=****\n",
    "POSTGRES_HOST=****\n",
    "POSTGRES_PASSWORD=****\n",
    "POSTGRES_PORT=***\n",
    "POSTGRES_USER=****"
   ]
  }
 ],
 "metadata": {
  "kernelspec": {
   "display_name": "Python 3 (ipykernel)",
   "language": "python",
   "name": "python3"
  },
  "language_info": {
   "codemirror_mode": {
    "name": "ipython",
    "version": 3
   },
   "file_extension": ".py",
   "mimetype": "text/x-python",
   "name": "python",
   "nbconvert_exporter": "python",
   "pygments_lexer": "ipython3",
   "version": "3.11.4"
  }
 },
 "nbformat": 4,
 "nbformat_minor": 5
}
